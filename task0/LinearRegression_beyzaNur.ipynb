{
 "cells": [
  {
   "cell_type": "markdown",
   "metadata": {
    "id": "r79-WpxPbR9j"
   },
   "source": [
    "# Intro to Linear Regression\n",
    "## BogaziciAI\n",
    "\n",
    "Linear regression is the process of modelling a linear relationship between variables."
   ]
  },
  {
   "cell_type": "markdown",
   "metadata": {
    "id": "Oxy799JKbR9k"
   },
   "source": [
    "In order to understand it clearly, we can define a custom dataset, that includes a linear relationship between 2 variables.\n",
    "Let's assume that our dataset is linearly correlated as Y=AX+B ideally."
   ]
  },
  {
   "cell_type": "code",
   "execution_count": 2,
   "metadata": {},
   "outputs": [],
   "source": [
    "import warnings\n",
    "warnings.filterwarnings('ignore')"
   ]
  },
  {
   "cell_type": "code",
   "execution_count": 3,
   "metadata": {
    "executionInfo": {
     "elapsed": 1369,
     "status": "ok",
     "timestamp": 1624863835659,
     "user": {
      "displayName": "bogaziciAI Community",
      "photoUrl": "",
      "userId": "01551662724788664199"
     },
     "user_tz": -180
    },
    "id": "jD8FXGi4bR9l"
   },
   "outputs": [],
   "source": [
    "import numpy as np\n",
    "import matplotlib.pyplot as plt\n",
    "from sklearn import linear_model"
   ]
  },
  {
   "cell_type": "markdown",
   "metadata": {
    "id": "oLVp1RVAbR9l"
   },
   "source": [
    "First create a dataset that has disturbances."
   ]
  },
  {
   "cell_type": "code",
   "execution_count": 3,
   "metadata": {
    "colab": {
     "base_uri": "https://localhost:8080/",
     "height": 269
    },
    "executionInfo": {
     "elapsed": 8,
     "status": "ok",
     "timestamp": 1624863835663,
     "user": {
      "displayName": "bogaziciAI Community",
      "photoUrl": "",
      "userId": "01551662724788664199"
     },
     "user_tz": -180
    },
    "id": "0erJeSMSbR9m",
    "outputId": "8f0b30aa-e4cc-4037-eb99-ce0b56407b28"
   },
   "outputs": [
    {
     "data": {
      "image/png": "[encoded data removed]",
      "text/plain": [
       "<Figure size 432x288 with 1 Axes>"
      ]
     },
     "metadata": {
      "needs_background": "light"
     },
     "output_type": "display_data"
    }
   ],
   "source": [
    "A = 2\n",
    "B = -20\n",
    "x_range = [-20, 100]\n",
    "\n",
    "def load_dataset(n=150):\n",
    "  x = (x_range[1] - x_range[0]) * np.random.rand(n) + x_range[0]\n",
    "  eps = np.random.normal(0,10,n)\n",
    "  y = A * x  + B + eps\n",
    "  return np.array(y).reshape(-1,1), np.array(x).reshape(-1,1)\n",
    "\n",
    "y, x = load_dataset()\n",
    "\n",
    "plt.plot(x,y,'*')\n",
    "plt.show()\n"
   ]
  },
  {
   "cell_type": "markdown",
   "metadata": {
    "id": "xeqEGSM8bR9n"
   },
   "source": [
    "As data seem to be correlated linearly, (We already know that in this situation as it is created by us, but we need to inspect unkown datasets in order to choose an eligable method.) it is appropriate to apply linear regression."
   ]
  },
  {
   "cell_type": "code",
   "execution_count": 4,
   "metadata": {
    "colab": {
     "base_uri": "https://localhost:8080/",
     "height": 286
    },
    "executionInfo": {
     "elapsed": 370,
     "status": "ok",
     "timestamp": 1624863873272,
     "user": {
      "displayName": "bogaziciAI Community",
      "photoUrl": "",
      "userId": "01551662724788664199"
     },
     "user_tz": -180
    },
    "id": "fGnrz0PmbR9n",
    "outputId": "9c67c289-78dc-40dc-829c-88224ec532b7"
   },
   "outputs": [
    {
     "name": "stdout",
     "output_type": "stream",
     "text": [
      "A: 1.99\t\tB: -17.90\tR2: 0.974\n"
     ]
    },
    {
     "data": {
      "image/png": "[encoded data removed]",
      "text/plain": [
       "<Figure size 432x288 with 1 Axes>"
      ]
     },
     "metadata": {
      "needs_background": "light"
     },
     "output_type": "display_data"
    }
   ],
   "source": [
    "regression = linear_model.LinearRegression()\n",
    "regression = regression.fit(x,y)\n",
    "print(f\"A: {regression.coef_[0][0]:.2f}\\t\\tB: {regression.intercept_[0]:.2f}\\tR2: {regression.score(x,y):.3f}\")\n",
    "\n",
    "x_pred = np.array(x_range).reshape(-1,1)\n",
    "y_pred = regression.predict(x_pred)\n",
    "plt.plot(x_pred,y_pred,'r-',x,y,'*')\n",
    "plt.show()"
   ]
  },
  {
   "cell_type": "markdown",
   "metadata": {
    "id": "zkuwExtWbR9n"
   },
   "source": [
    "# <font color='green'>Load CVS file with PANDAS</font> "
   ]
  },
  {
   "cell_type": "markdown",
   "metadata": {
    "id": "en66MvAxbR9n"
   },
   "source": [
    "In this section, you are given weather data. You will use pandas dataframe to load csv file. Observe dataframe shape and by using .head(), investigate the content of the data."
   ]
  },
  {
   "cell_type": "code",
   "execution_count": 5,
   "metadata": {
    "colab": {
     "base_uri": "https://localhost:8080/",
     "height": 408
    },
    "executionInfo": {
     "elapsed": 25,
     "status": "error",
     "timestamp": 1624863836155,
     "user": {
      "displayName": "bogaziciAI Community",
      "photoUrl": "",
      "userId": "01551662724788664199"
     },
     "user_tz": -180
    },
    "id": "M_RQaBDtbR9o",
    "outputId": "6c5c4758-ae13-4d63-da0f-58d7c40b2508"
   },
   "outputs": [
    {
     "data": {
      "text/plain": [
       "(1999, 12)"
      ]
     },
     "execution_count": 5,
     "metadata": {},
     "output_type": "execute_result"
    }
   ],
   "source": [
    "import pandas as pd\n",
    "WeatherData=pd.read_csv('weatherHistory.csv')  \n",
    "WeatherData.shape"
   ]
  },
  {
   "cell_type": "code",
   "execution_count": 5,
   "metadata": {
    "executionInfo": {
     "elapsed": 11,
     "status": "aborted",
     "timestamp": 1624863836142,
     "user": {
      "displayName": "bogaziciAI Community",
      "photoUrl": "",
      "userId": "01551662724788664199"
     },
     "user_tz": -180
    },
    "id": "XqYQMS4NbR9o"
   },
   "outputs": [
    {
     "data": {
      "text/html": [
       "<div>\n",
       "<style scoped>\n",
       "    .dataframe tbody tr th:only-of-type {\n",
       "        vertical-align: middle;\n",
       "    }\n",
       "\n",
       "    .dataframe tbody tr th {\n",
       "        vertical-align: top;\n",
       "    }\n",
       "\n",
       "    .dataframe thead th {\n",
       "        text-align: right;\n",
       "    }\n",
       "</style>\n",
       "<table border=\"1\" class=\"dataframe\">\n",
       "  <thead>\n",
       "    <tr style=\"text-align: right;\">\n",
       "      <th></th>\n",
       "      <th>Formatted Date</th>\n",
       "      <th>Summary</th>\n",
       "      <th>Precip Type</th>\n",
       "      <th>Temperature</th>\n",
       "      <th>Apparent Temperature</th>\n",
       "      <th>Humidity</th>\n",
       "      <th>Wind Speed</th>\n",
       "      <th>Wind Bearing</th>\n",
       "      <th>Visibility</th>\n",
       "      <th>Loud Cover</th>\n",
       "      <th>Pressure</th>\n",
       "      <th>Daily Summary</th>\n",
       "    </tr>\n",
       "  </thead>\n",
       "  <tbody>\n",
       "    <tr>\n",
       "      <th>0</th>\n",
       "      <td>2006-04-01 00:00:00.000 +0200</td>\n",
       "      <td>Partly Cloudy</td>\n",
       "      <td>rain</td>\n",
       "      <td>9.472222</td>\n",
       "      <td>7.388889</td>\n",
       "      <td>0.89</td>\n",
       "      <td>14.1197</td>\n",
       "      <td>251</td>\n",
       "      <td>15.8263</td>\n",
       "      <td>0</td>\n",
       "      <td>1015.13</td>\n",
       "      <td>Partly cloudy throughout the day.</td>\n",
       "    </tr>\n",
       "    <tr>\n",
       "      <th>1</th>\n",
       "      <td>2006-04-01 01:00:00.000 +0200</td>\n",
       "      <td>Partly Cloudy</td>\n",
       "      <td>rain</td>\n",
       "      <td>9.355556</td>\n",
       "      <td>7.227778</td>\n",
       "      <td>0.86</td>\n",
       "      <td>14.2646</td>\n",
       "      <td>259</td>\n",
       "      <td>15.8263</td>\n",
       "      <td>0</td>\n",
       "      <td>1015.63</td>\n",
       "      <td>Partly cloudy throughout the day.</td>\n",
       "    </tr>\n",
       "    <tr>\n",
       "      <th>2</th>\n",
       "      <td>2006-04-01 02:00:00.000 +0200</td>\n",
       "      <td>Mostly Cloudy</td>\n",
       "      <td>rain</td>\n",
       "      <td>9.377778</td>\n",
       "      <td>9.377778</td>\n",
       "      <td>0.89</td>\n",
       "      <td>3.9284</td>\n",
       "      <td>204</td>\n",
       "      <td>14.9569</td>\n",
       "      <td>0</td>\n",
       "      <td>1015.94</td>\n",
       "      <td>Partly cloudy throughout the day.</td>\n",
       "    </tr>\n",
       "    <tr>\n",
       "      <th>3</th>\n",
       "      <td>2006-04-01 03:00:00.000 +0200</td>\n",
       "      <td>Partly Cloudy</td>\n",
       "      <td>rain</td>\n",
       "      <td>8.288889</td>\n",
       "      <td>5.944444</td>\n",
       "      <td>0.83</td>\n",
       "      <td>14.1036</td>\n",
       "      <td>269</td>\n",
       "      <td>15.8263</td>\n",
       "      <td>0</td>\n",
       "      <td>1016.41</td>\n",
       "      <td>Partly cloudy throughout the day.</td>\n",
       "    </tr>\n",
       "    <tr>\n",
       "      <th>4</th>\n",
       "      <td>2006-04-01 04:00:00.000 +0200</td>\n",
       "      <td>Mostly Cloudy</td>\n",
       "      <td>rain</td>\n",
       "      <td>8.755556</td>\n",
       "      <td>6.977778</td>\n",
       "      <td>0.83</td>\n",
       "      <td>11.0446</td>\n",
       "      <td>259</td>\n",
       "      <td>15.8263</td>\n",
       "      <td>0</td>\n",
       "      <td>1016.51</td>\n",
       "      <td>Partly cloudy throughout the day.</td>\n",
       "    </tr>\n",
       "  </tbody>\n",
       "</table>\n",
       "</div>"
      ],
      "text/plain": [
       "                  Formatted Date        Summary Precip Type  Temperature  \\\n",
       "0  2006-04-01 00:00:00.000 +0200  Partly Cloudy        rain     9.472222   \n",
       "1  2006-04-01 01:00:00.000 +0200  Partly Cloudy        rain     9.355556   \n",
       "2  2006-04-01 02:00:00.000 +0200  Mostly Cloudy        rain     9.377778   \n",
       "3  2006-04-01 03:00:00.000 +0200  Partly Cloudy        rain     8.288889   \n",
       "4  2006-04-01 04:00:00.000 +0200  Mostly Cloudy        rain     8.755556   \n",
       "\n",
       "   Apparent Temperature  Humidity  Wind Speed  Wind Bearing  Visibility  \\\n",
       "0              7.388889      0.89     14.1197           251     15.8263   \n",
       "1              7.227778      0.86     14.2646           259     15.8263   \n",
       "2              9.377778      0.89      3.9284           204     14.9569   \n",
       "3              5.944444      0.83     14.1036           269     15.8263   \n",
       "4              6.977778      0.83     11.0446           259     15.8263   \n",
       "\n",
       "   Loud Cover  Pressure                      Daily Summary  \n",
       "0           0   1015.13  Partly cloudy throughout the day.  \n",
       "1           0   1015.63  Partly cloudy throughout the day.  \n",
       "2           0   1015.94  Partly cloudy throughout the day.  \n",
       "3           0   1016.41  Partly cloudy throughout the day.  \n",
       "4           0   1016.51  Partly cloudy throughout the day.  "
      ]
     },
     "execution_count": 5,
     "metadata": {},
     "output_type": "execute_result"
    }
   ],
   "source": [
    "WeatherData.head()"
   ]
  },
  {
   "cell_type": "code",
   "execution_count": 6,
   "metadata": {
    "executionInfo": {
     "elapsed": 12,
     "status": "aborted",
     "timestamp": 1624863836143,
     "user": {
      "displayName": "bogaziciAI Community",
      "photoUrl": "",
      "userId": "01551662724788664199"
     },
     "user_tz": -180
    },
    "id": "TFUHEKLYbR9o"
   },
   "outputs": [
    {
     "name": "stdout",
     "output_type": "stream",
     "text": [
      "<class 'pandas.core.frame.DataFrame'>\n",
      "RangeIndex: 1999 entries, 0 to 1998\n",
      "Data columns (total 12 columns):\n",
      " #   Column                Non-Null Count  Dtype  \n",
      "---  ------                --------------  -----  \n",
      " 0   Formatted Date        1999 non-null   object \n",
      " 1   Summary               1999 non-null   object \n",
      " 2   Precip Type           1999 non-null   object \n",
      " 3   Temperature           1999 non-null   float64\n",
      " 4   Apparent Temperature  1999 non-null   float64\n",
      " 5   Humidity              1999 non-null   float64\n",
      " 6   Wind Speed            1999 non-null   float64\n",
      " 7   Wind Bearing          1999 non-null   int64  \n",
      " 8   Visibility            1999 non-null   float64\n",
      " 9   Loud Cover            1999 non-null   int64  \n",
      " 10  Pressure              1999 non-null   float64\n",
      " 11  Daily Summary         1999 non-null   object \n",
      "dtypes: float64(6), int64(2), object(4)\n",
      "memory usage: 187.5+ KB\n"
     ]
    }
   ],
   "source": [
    "WeatherData.info()"
   ]
  },
  {
   "cell_type": "code",
   "execution_count": 7,
   "metadata": {
    "executionInfo": {
     "elapsed": 13,
     "status": "aborted",
     "timestamp": 1624863836144,
     "user": {
      "displayName": "bogaziciAI Community",
      "photoUrl": "",
      "userId": "01551662724788664199"
     },
     "user_tz": -180
    },
    "id": "VGVgF0SRbR9o"
   },
   "outputs": [
    {
     "data": {
      "text/plain": [
       "pandas.core.series.Series"
      ]
     },
     "execution_count": 7,
     "metadata": {},
     "output_type": "execute_result"
    }
   ],
   "source": [
    "WeatherData.columns = WeatherData.columns.str.replace(' ','_') #did it so the spaces in column names are replaced with _\n",
    "Temp=WeatherData.Temperature\n",
    "Hum=WeatherData.Humidity\n",
    "Speed=WeatherData.Wind_Speed\n",
    "type(Temp)\n",
    "type(Hum)"
   ]
  },
  {
   "cell_type": "markdown",
   "metadata": {
    "id": "nDllmPf6bR9o"
   },
   "source": [
    "Data visualization is cruicial to understand the quality of the data. You need to observe inputs and outputs to form a hypothesis about possible correlations. Investigate matplotlib. "
   ]
  },
  {
   "cell_type": "code",
   "execution_count": 8,
   "metadata": {
    "executionInfo": {
     "elapsed": 13,
     "status": "aborted",
     "timestamp": 1624863836144,
     "user": {
      "displayName": "bogaziciAI Community",
      "photoUrl": "",
      "userId": "01551662724788664199"
     },
     "user_tz": -180
    },
    "id": "bpLjZrgRbR9o"
   },
   "outputs": [
    {
     "data": {
      "text/plain": [
       "[<matplotlib.lines.Line2D at 0x2755d57d760>]"
      ]
     },
     "execution_count": 8,
     "metadata": {},
     "output_type": "execute_result"
    },
    {
     "data": {
      "image/png": "[encoded data removed]",
      "text/plain": [
       "<Figure size 432x288 with 2 Axes>"
      ]
     },
     "metadata": {
      "needs_background": "light"
     },
     "output_type": "display_data"
    }
   ],
   "source": [
    "import matplotlib.pyplot as plt\n",
    "\n",
    "\n",
    "fig = plt.figure()\n",
    "ax1 = fig.add_subplot(2, 1, 1) # two rows, one column, first plot\n",
    "ax1.set_ylabel('Temperature (C)')\n",
    "ax1.set_xlabel('1 hr intervals (h)')\n",
    "ax1.set_title(' Hourly Temperature-Humidity')\n",
    "ax1.plot(Temp[0:300])\n",
    "\n",
    "ax2 = fig.add_subplot(2, 1, 2) # two rows, one column, first plot\n",
    "ax2.set_ylabel('Humidity ')\n",
    "ax2.set_xlabel('1 hr intervals (h)')\n",
    "ax2.plot(Hum[0:300])\n"
   ]
  },
  {
   "cell_type": "markdown",
   "metadata": {
    "id": "cEsq7PU9bR9o"
   },
   "source": [
    "Lets scatterplot the same data to see different kinds of visualizations. "
   ]
  },
  {
   "cell_type": "code",
   "execution_count": 9,
   "metadata": {
    "executionInfo": {
     "elapsed": 13,
     "status": "aborted",
     "timestamp": 1624863836145,
     "user": {
      "displayName": "bogaziciAI Community",
      "photoUrl": "",
      "userId": "01551662724788664199"
     },
     "user_tz": -180
    },
    "id": "V8UHn4JrbR9p"
   },
   "outputs": [
    {
     "data": {
      "text/plain": [
       "Text(0, 0.5, 'Humidity (%)')"
      ]
     },
     "execution_count": 9,
     "metadata": {},
     "output_type": "execute_result"
    },
    {
     "data": {
      "image/png": "[encoded data removed]",
      "text/plain": [
       "<Figure size 432x288 with 1 Axes>"
      ]
     },
     "metadata": {
      "needs_background": "light"
     },
     "output_type": "display_data"
    }
   ],
   "source": [
    "fig = plt.figure()\n",
    "plt.scatter(Temp[0:300],Hum[0:300])\n",
    "plt.xlabel('Temperature (C)')\n",
    "plt.ylabel('Humidity (%)')\n"
   ]
  },
  {
   "cell_type": "markdown",
   "metadata": {
    "id": "JzdRYicRbR9p"
   },
   "source": [
    "<font color='red'> Optional Exercise : </font> Use .scatter(Temp[0:300], WindSpeed[0:300], Hum[0:300]) to make a 3d plot including windspeed for the first 300 data points.  "
   ]
  },
  {
   "cell_type": "code",
   "execution_count": 10,
   "metadata": {
    "executionInfo": {
     "elapsed": 14,
     "status": "aborted",
     "timestamp": 1624863836146,
     "user": {
      "displayName": "bogaziciAI Community",
      "photoUrl": "",
      "userId": "01551662724788664199"
     },
     "user_tz": -180
    },
    "id": "ei-LSfYNbR9p"
   },
   "outputs": [
    {
     "data": {
      "text/plain": [
       "Text(0.5, 0, 'Humidity')"
      ]
     },
     "execution_count": 10,
     "metadata": {},
     "output_type": "execute_result"
    },
    {
     "data": {
      "image/png": "[encoded data removed]",
      "text/plain": [
       "<Figure size 432x288 with 1 Axes>"
      ]
     },
     "metadata": {
      "needs_background": "light"
     },
     "output_type": "display_data"
    }
   ],
   "source": [
    "ax = plt.figure().add_subplot(projection='3d')\n",
    "\n",
    "ax.scatter(Temp[0:300],Speed[0:300],Hum[0:300])\n",
    "\n",
    "ax.set_zlim(0, 1)\n",
    "\n",
    "ax.set_xlabel('Temperature (C)')\n",
    "ax.set_ylabel('Wind Speed')\n",
    "ax.set_zlabel('Humidity')"
   ]
  },
  {
   "cell_type": "markdown",
   "metadata": {
    "id": "Ug_FulbebR9p"
   },
   "source": [
    "#  <font color='green'>Real Estate Data, Linear and Nonlinear Regression</font> "
   ]
  },
  {
   "cell_type": "code",
   "execution_count": 12,
   "metadata": {
    "executionInfo": {
     "elapsed": 14,
     "status": "aborted",
     "timestamp": 1624863836146,
     "user": {
      "displayName": "bogaziciAI Community",
      "photoUrl": "",
      "userId": "01551662724788664199"
     },
     "user_tz": -180
    },
    "id": "S87_N0WMbR9p"
   },
   "outputs": [
    {
     "data": {
      "text/plain": [
       "(428, 8)"
      ]
     },
     "execution_count": 12,
     "metadata": {},
     "output_type": "execute_result"
    }
   ],
   "source": [
    "import pandas as pd\n",
    "import matplotlib.pyplot as plt\n",
    "#################  Dosya ismi Realestate.csv, panda dataframe olarak yukleyin\n",
    "HouseData= pd.read_csv('Realestate.csv')  \n",
    "#################\n",
    "HouseData.shape"
   ]
  },
  {
   "cell_type": "code",
   "execution_count": 13,
   "metadata": {
    "executionInfo": {
     "elapsed": 15,
     "status": "aborted",
     "timestamp": 1624863836147,
     "user": {
      "displayName": "bogaziciAI Community",
      "photoUrl": "",
      "userId": "01551662724788664199"
     },
     "user_tz": -180
    },
    "id": "DM7yGUC-bR9p"
   },
   "outputs": [
    {
     "name": "stdout",
     "output_type": "stream",
     "text": [
      "<class 'pandas.core.frame.DataFrame'>\n",
      "RangeIndex: 428 entries, 0 to 427\n",
      "Data columns (total 8 columns):\n",
      " #   Column                Non-Null Count  Dtype  \n",
      "---  ------                --------------  -----  \n",
      " 0   No                    428 non-null    int64  \n",
      " 1   transactiondate       428 non-null    float64\n",
      " 2   houseage              428 non-null    float64\n",
      " 3   distancetostation     428 non-null    float64\n",
      " 4   numberofstores        428 non-null    int64  \n",
      " 5   latitude              428 non-null    float64\n",
      " 6   longitude             428 non-null    float64\n",
      " 7   housepriceofunitarea  428 non-null    float64\n",
      "dtypes: float64(6), int64(2)\n",
      "memory usage: 26.9 KB\n"
     ]
    }
   ],
   "source": [
    "HouseData.info()"
   ]
  },
  {
   "cell_type": "code",
   "execution_count": 14,
   "metadata": {
    "executionInfo": {
     "elapsed": 17,
     "status": "aborted",
     "timestamp": 1624863836149,
     "user": {
      "displayName": "bogaziciAI Community",
      "photoUrl": "",
      "userId": "01551662724788664199"
     },
     "user_tz": -180
    },
    "id": "l3JlxtAUbR9p"
   },
   "outputs": [
    {
     "data": {
      "text/html": [
       "<div>\n",
       "<style scoped>\n",
       "    .dataframe tbody tr th:only-of-type {\n",
       "        vertical-align: middle;\n",
       "    }\n",
       "\n",
       "    .dataframe tbody tr th {\n",
       "        vertical-align: top;\n",
       "    }\n",
       "\n",
       "    .dataframe thead th {\n",
       "        text-align: right;\n",
       "    }\n",
       "</style>\n",
       "<table border=\"1\" class=\"dataframe\">\n",
       "  <thead>\n",
       "    <tr style=\"text-align: right;\">\n",
       "      <th></th>\n",
       "      <th>No</th>\n",
       "      <th>transactiondate</th>\n",
       "      <th>houseage</th>\n",
       "      <th>distancetostation</th>\n",
       "      <th>numberofstores</th>\n",
       "      <th>latitude</th>\n",
       "      <th>longitude</th>\n",
       "      <th>housepriceofunitarea</th>\n",
       "    </tr>\n",
       "  </thead>\n",
       "  <tbody>\n",
       "    <tr>\n",
       "      <th>0</th>\n",
       "      <td>0</td>\n",
       "      <td>2012.1</td>\n",
       "      <td>15.0</td>\n",
       "      <td>88.0</td>\n",
       "      <td>3</td>\n",
       "      <td>1.0</td>\n",
       "      <td>2.0</td>\n",
       "      <td>195.4</td>\n",
       "    </tr>\n",
       "    <tr>\n",
       "      <th>1</th>\n",
       "      <td>0</td>\n",
       "      <td>2012.1</td>\n",
       "      <td>12.0</td>\n",
       "      <td>300.0</td>\n",
       "      <td>3</td>\n",
       "      <td>1.0</td>\n",
       "      <td>2.0</td>\n",
       "      <td>85.7</td>\n",
       "    </tr>\n",
       "    <tr>\n",
       "      <th>2</th>\n",
       "      <td>0</td>\n",
       "      <td>2012.1</td>\n",
       "      <td>14.0</td>\n",
       "      <td>658.0</td>\n",
       "      <td>5</td>\n",
       "      <td>1.0</td>\n",
       "      <td>2.0</td>\n",
       "      <td>44.9</td>\n",
       "    </tr>\n",
       "    <tr>\n",
       "      <th>3</th>\n",
       "      <td>0</td>\n",
       "      <td>2012.1</td>\n",
       "      <td>20.0</td>\n",
       "      <td>204.0</td>\n",
       "      <td>7</td>\n",
       "      <td>1.0</td>\n",
       "      <td>2.0</td>\n",
       "      <td>135.6</td>\n",
       "    </tr>\n",
       "    <tr>\n",
       "      <th>4</th>\n",
       "      <td>0</td>\n",
       "      <td>2012.1</td>\n",
       "      <td>22.0</td>\n",
       "      <td>1020.0</td>\n",
       "      <td>6</td>\n",
       "      <td>1.0</td>\n",
       "      <td>2.0</td>\n",
       "      <td>33.5</td>\n",
       "    </tr>\n",
       "  </tbody>\n",
       "</table>\n",
       "</div>"
      ],
      "text/plain": [
       "   No  transactiondate  houseage  distancetostation  numberofstores  latitude  \\\n",
       "0   0           2012.1      15.0               88.0               3       1.0   \n",
       "1   0           2012.1      12.0              300.0               3       1.0   \n",
       "2   0           2012.1      14.0              658.0               5       1.0   \n",
       "3   0           2012.1      20.0              204.0               7       1.0   \n",
       "4   0           2012.1      22.0             1020.0               6       1.0   \n",
       "\n",
       "   longitude  housepriceofunitarea  \n",
       "0        2.0                 195.4  \n",
       "1        2.0                  85.7  \n",
       "2        2.0                  44.9  \n",
       "3        2.0                 135.6  \n",
       "4        2.0                  33.5  "
      ]
     },
     "execution_count": 14,
     "metadata": {},
     "output_type": "execute_result"
    }
   ],
   "source": [
    "HouseData.head()"
   ]
  },
  {
   "cell_type": "markdown",
   "metadata": {
    "id": "iB0IKqLnbR9q"
   },
   "source": [
    "#  <font color='green'>Linear Regression</font>"
   ]
  },
  {
   "cell_type": "markdown",
   "metadata": {
    "id": "8QZdj1iqbR9q"
   },
   "source": [
    "<font color='red'>Example: run the code in 3 sections in order for ToNthHouse=10 and ToNthHouse=14 and answer 3 questions below </font>"
   ]
  },
  {
   "cell_type": "code",
   "execution_count": 24,
   "metadata": {
    "executionInfo": {
     "elapsed": 16,
     "status": "aborted",
     "timestamp": 1624863836149,
     "user": {
      "displayName": "bogaziciAI Community",
      "photoUrl": "",
      "userId": "01551662724788664199"
     },
     "user_tz": -180
    },
    "id": "gZcfnx57bR9q"
   },
   "outputs": [
    {
     "data": {
      "text/plain": [
       "(0.0, 220.0)"
      ]
     },
     "execution_count": 24,
     "metadata": {},
     "output_type": "execute_result"
    },
    {
     "data": {
      "image/png": "[encoded data removed]",
      "text/plain": [
       "<Figure size 432x288 with 1 Axes>"
      ]
     },
     "metadata": {
      "needs_background": "light"
     },
     "output_type": "display_data"
    }
   ],
   "source": [
    "import pandas as pd\n",
    "\n",
    "Dist=HouseData['distancetostation'].to_numpy()\n",
    "Price=HouseData['housepriceofunitarea'].to_numpy()\n",
    "Age=HouseData['houseage'].to_numpy()\n",
    "\n",
    "######  First Examine House Distance vs Price for the first 10 house values(ToNthHouse) then 14\n",
    "\n",
    "ToNthHouse=14\n",
    "\n",
    "######\n",
    "fig = plt.figure()\n",
    "plt.scatter(Dist[:ToNthHouse],Price[:ToNthHouse])\n",
    "plt.xlabel('Distance to the closest Transportation(m)')\n",
    "plt.ylabel('Unit Price')\n",
    "plt.xlim(0,1800)\n",
    "plt.ylim(0,220)"
   ]
  },
  {
   "cell_type": "code",
   "execution_count": 21,
   "metadata": {
    "executionInfo": {
     "elapsed": 17,
     "status": "aborted",
     "timestamp": 1624863836150,
     "user": {
      "displayName": "bogaziciAI Community",
      "photoUrl": "",
      "userId": "01551662724788664199"
     },
     "user_tz": -180
    },
    "id": "uJqd1H0SbR9q"
   },
   "outputs": [
    {
     "data": {
      "text/plain": [
       "0.752143701166438"
      ]
     },
     "execution_count": 21,
     "metadata": {},
     "output_type": "execute_result"
    }
   ],
   "source": [
    "from sklearn.linear_model import LinearRegression\n",
    "\n",
    "reg = LinearRegression()\n",
    "reg.fit(Dist[:ToNthHouse].reshape(-1, 1), Price[:ToNthHouse].reshape(-1, 1))\n",
    "reg.score(Dist[:ToNthHouse].reshape(-1, 1), Price[:ToNthHouse].reshape(-1, 1))"
   ]
  },
  {
   "cell_type": "code",
   "execution_count": 22,
   "metadata": {
    "executionInfo": {
     "elapsed": 17,
     "status": "aborted",
     "timestamp": 1624863836150,
     "user": {
      "displayName": "bogaziciAI Community",
      "photoUrl": "",
      "userId": "01551662724788664199"
     },
     "user_tz": -180
    },
    "id": "SqzIKn4-bR9q"
   },
   "outputs": [
    {
     "data": {
      "text/plain": [
       "<matplotlib.legend.Legend at 0x2755dc8b3d0>"
      ]
     },
     "execution_count": 22,
     "metadata": {},
     "output_type": "execute_result"
    },
    {
     "data": {
      "image/png": "[encoded data removed]",
      "text/plain": [
       "<Figure size 432x288 with 1 Axes>"
      ]
     },
     "metadata": {
      "needs_background": "light"
     },
     "output_type": "display_data"
    }
   ],
   "source": [
    "import numpy as np\n",
    "PredictedPrice=reg.predict(np.arange(0,1800,100).reshape(-1,1))\n",
    "\n",
    "fig = plt.figure()\n",
    "plt.scatter(Dist[:ToNthHouse],Price[:ToNthHouse])\n",
    "plt.xlabel('Distance to the closest Transportation(m)')\n",
    "plt.ylabel('Unit Price')\n",
    "plt.xlim(0,1800)\n",
    "plt.ylim(0,220)\n",
    "plt.plot(np.arange(0,1800,100),PredictedPrice,'r')\n",
    "plt.legend(['Regression Predicted','Real Prices'])"
   ]
  },
  {
   "cell_type": "markdown",
   "metadata": {
    "id": "DJ-8Fr04bR9r"
   },
   "source": [
    "<font color='red'>QUESTIONS:</font>\n",
    "\n",
    "1) What is the regression score (reg.score, out[177]) for ToNthHouse= 10 and 14. Write your answers below.\n",
    "\n",
    "\n",
    "2) Outliers in regression are observations that fall far from the “cloud” of points. These points might be especially important. Which ones would be the outlier in ToNthHouse=10 and ToNthHouse=14 cases? \n",
    "\n",
    "\n",
    "\n",
    "3) Why do you think that regression score differs so much when 4 additional data points are added?\n",
    "Hint: print Panda dataframe information for indices 0-14 (HouseData[0:14]) . \n",
    "Do you think that linear regression Y=aX+B is useful in this case?\n"
   ]
  },
  {
   "cell_type": "markdown",
   "metadata": {
    "executionInfo": {
     "elapsed": 17,
     "status": "aborted",
     "timestamp": 1624863836150,
     "user": {
      "displayName": "bogaziciAI Community",
      "photoUrl": "",
      "userId": "01551662724788664199"
     },
     "user_tz": -180
    },
    "id": "yK5c_VB3bR9r"
   },
   "source": [
    "1. \n",
    "    a. 0.752143701166438 for 10 \n",
    "   \n",
    "    b. 0.11621887832556999 for 14\n",
    "   \n",
    "   \n",
    "2. \n",
    "\n",
    "\n",
    "\n",
    "3. A linear regression don't fit to our data when ToNthHouse = 14, we need a polynomial regression for that."
   ]
  },
  {
   "cell_type": "markdown",
   "metadata": {
    "id": "CYehxx82bR9r"
   },
   "source": [
    "#  <font color='green'>Nonlinear  Nth Degree poly.  Regression, Y=aX^(n)+bX^(n-1)...+gX^1+h</font>"
   ]
  },
  {
   "cell_type": "markdown",
   "metadata": {
    "id": "wlKELnygbR9r"
   },
   "source": [
    "#### <font color='red'>Example: Command  N_poly_degree, change the polynomial nonlinear regression degree and observe how the scores of the predictions change </font>  \n"
   ]
  },
  {
   "cell_type": "code",
   "execution_count": 23,
   "metadata": {
    "executionInfo": {
     "elapsed": 18,
     "status": "aborted",
     "timestamp": 1624863836151,
     "user": {
      "displayName": "bogaziciAI Community",
      "photoUrl": "",
      "userId": "01551662724788664199"
     },
     "user_tz": -180
    },
    "id": "Hg6xvt02bR9s",
    "scrolled": false
   },
   "outputs": [
    {
     "data": {
      "text/plain": [
       "0.9358567701993217"
      ]
     },
     "execution_count": 23,
     "metadata": {},
     "output_type": "execute_result"
    }
   ],
   "source": [
    "from sklearn.preprocessing import PolynomialFeatures\n",
    "ToNthHouse=14\n",
    "N_poly_degree=2\n",
    "####\n",
    "#N_poly_degree=2\n",
    "####\n",
    "poly = PolynomialFeatures(N_poly_degree)\n",
    "Dist_transformed=poly.fit_transform(Dist[:ToNthHouse].reshape(-1,1))\n",
    "\n",
    "model = LinearRegression()\n",
    "\n",
    "model.fit(Dist_transformed,Price[:ToNthHouse].reshape(-1, 1) )\n",
    "model.score(Dist_transformed,Price[:ToNthHouse].reshape(-1, 1))"
   ]
  },
  {
   "cell_type": "code",
   "execution_count": 24,
   "metadata": {
    "executionInfo": {
     "elapsed": 18,
     "status": "aborted",
     "timestamp": 1624863836151,
     "user": {
      "displayName": "bogaziciAI Community",
      "photoUrl": "",
      "userId": "01551662724788664199"
     },
     "user_tz": -180
    },
    "id": "ZHX1kkclbR9s"
   },
   "outputs": [
    {
     "data": {
      "text/plain": [
       "<matplotlib.legend.Legend at 0x2850086d460>"
      ]
     },
     "execution_count": 24,
     "metadata": {},
     "output_type": "execute_result"
    },
    {
     "data": {
      "image/png": "[encoded data removed]",
      "text/plain": [
       "<Figure size 432x288 with 1 Axes>"
      ]
     },
     "metadata": {
      "needs_background": "light"
     },
     "output_type": "display_data"
    }
   ],
   "source": [
    "Dist_Prediction_transformed=poly.fit_transform(np.arange(0,1800,100).reshape(-1,1))\n",
    "PredictedPrice=model.predict(Dist_Prediction_transformed)\n",
    "\n",
    "fig = plt.figure()\n",
    "plt.scatter(Dist[:ToNthHouse],Price[:ToNthHouse])\n",
    "plt.xlabel('Distance to the closest Transportation(m)')\n",
    "plt.ylabel('Unit Price')\n",
    "\n",
    "plt.plot(np.arange(0,1800,100),PredictedPrice,'r')\n",
    "plt.legend(['Regression Predicted','Real Prices'])"
   ]
  },
  {
   "cell_type": "markdown",
   "metadata": {
    "id": "Igip6MxvbR9s"
   },
   "source": [
    "<font color='red'>Question:</font> When we switched to nonlinear regression, the prediction became better for the 14 data points, Do you think that we adopted a correct approach, is the only variable that determines the House Unit Price their distance to the closest transportation or are there any other variables that could have an influence on the House Unit Price? Write your answer here.\n",
    "\n",
    "- 2nd degree polynomial regression fits to our data when it's the only variable that determines the price. However, there might be other variables that have an influence on the house, as we can see on the correlation matrix below they could be longitude, latitude, and number of stores."
   ]
  },
  {
   "cell_type": "markdown",
   "metadata": {
    "id": "qc9rP-tVbR9s"
   },
   "source": [
    "# <font color='red'>THE FINAL EXERCISE: </font>  \n",
    "When you look at the dataframe called HouseData, data that have \"No=0\" are fabricated by us to get you familiar with the libraries and their functions to produce simple linear and nonlinear regression models. Now, You can continue with the real data from the city Pompeii. Drop the first 14 fabricated rows from the data frame. \n",
    "\n"
   ]
  },
  {
   "cell_type": "code",
   "execution_count": 20,
   "metadata": {
    "executionInfo": {
     "elapsed": 19,
     "status": "aborted",
     "timestamp": 1624863836152,
     "user": {
      "displayName": "bogaziciAI Community",
      "photoUrl": "",
      "userId": "01551662724788664199"
     },
     "user_tz": -180
    },
    "id": "S5ywitN1bR9s"
   },
   "outputs": [
    {
     "data": {
      "text/html": [
       "<div>\n",
       "<style scoped>\n",
       "    .dataframe tbody tr th:only-of-type {\n",
       "        vertical-align: middle;\n",
       "    }\n",
       "\n",
       "    .dataframe tbody tr th {\n",
       "        vertical-align: top;\n",
       "    }\n",
       "\n",
       "    .dataframe thead th {\n",
       "        text-align: right;\n",
       "    }\n",
       "</style>\n",
       "<table border=\"1\" class=\"dataframe\">\n",
       "  <thead>\n",
       "    <tr style=\"text-align: right;\">\n",
       "      <th></th>\n",
       "      <th>No</th>\n",
       "      <th>transactiondate</th>\n",
       "      <th>houseage</th>\n",
       "      <th>distancetostation</th>\n",
       "      <th>numberofstores</th>\n",
       "      <th>latitude</th>\n",
       "      <th>longitude</th>\n",
       "      <th>housepriceofunitarea</th>\n",
       "    </tr>\n",
       "  </thead>\n",
       "  <tbody>\n",
       "    <tr>\n",
       "      <th>14</th>\n",
       "      <td>1</td>\n",
       "      <td>2012.917</td>\n",
       "      <td>32.0</td>\n",
       "      <td>84.87882</td>\n",
       "      <td>10</td>\n",
       "      <td>24.98298</td>\n",
       "      <td>121.54024</td>\n",
       "      <td>37.9</td>\n",
       "    </tr>\n",
       "    <tr>\n",
       "      <th>15</th>\n",
       "      <td>2</td>\n",
       "      <td>2012.917</td>\n",
       "      <td>19.5</td>\n",
       "      <td>306.59470</td>\n",
       "      <td>9</td>\n",
       "      <td>24.98034</td>\n",
       "      <td>121.53951</td>\n",
       "      <td>42.2</td>\n",
       "    </tr>\n",
       "    <tr>\n",
       "      <th>16</th>\n",
       "      <td>3</td>\n",
       "      <td>2013.583</td>\n",
       "      <td>13.3</td>\n",
       "      <td>561.98450</td>\n",
       "      <td>5</td>\n",
       "      <td>24.98746</td>\n",
       "      <td>121.54391</td>\n",
       "      <td>47.3</td>\n",
       "    </tr>\n",
       "    <tr>\n",
       "      <th>17</th>\n",
       "      <td>4</td>\n",
       "      <td>2013.500</td>\n",
       "      <td>13.3</td>\n",
       "      <td>561.98450</td>\n",
       "      <td>5</td>\n",
       "      <td>24.98746</td>\n",
       "      <td>121.54391</td>\n",
       "      <td>54.8</td>\n",
       "    </tr>\n",
       "    <tr>\n",
       "      <th>18</th>\n",
       "      <td>5</td>\n",
       "      <td>2012.833</td>\n",
       "      <td>5.0</td>\n",
       "      <td>390.56840</td>\n",
       "      <td>5</td>\n",
       "      <td>24.97937</td>\n",
       "      <td>121.54245</td>\n",
       "      <td>43.1</td>\n",
       "    </tr>\n",
       "  </tbody>\n",
       "</table>\n",
       "</div>"
      ],
      "text/plain": [
       "    No  transactiondate  houseage  distancetostation  numberofstores  \\\n",
       "14   1         2012.917      32.0           84.87882              10   \n",
       "15   2         2012.917      19.5          306.59470               9   \n",
       "16   3         2013.583      13.3          561.98450               5   \n",
       "17   4         2013.500      13.3          561.98450               5   \n",
       "18   5         2012.833       5.0          390.56840               5   \n",
       "\n",
       "    latitude  longitude  housepriceofunitarea  \n",
       "14  24.98298  121.54024                  37.9  \n",
       "15  24.98034  121.53951                  42.2  \n",
       "16  24.98746  121.54391                  47.3  \n",
       "17  24.98746  121.54391                  54.8  \n",
       "18  24.97937  121.54245                  43.1  "
      ]
     },
     "execution_count": 20,
     "metadata": {},
     "output_type": "execute_result"
    }
   ],
   "source": [
    "HouseData=HouseData.drop(np.arange(0,14))\n",
    "HouseData.head()"
   ]
  },
  {
   "cell_type": "markdown",
   "metadata": {
    "id": "Jwpshj2lbR9t"
   },
   "source": [
    "\n",
    "This is <font color='red'>the final task.</font> You are expected to create a similar linear or nonlinear regression analysis on the real data. <font color='green'>You can choose how complicated you would like to have your investigation. Any analysis will be enough for you to fullfil this task, you do not have to present a very good correlation.</font> After you are done, Please email us this .ipynb file updated by you, then we will welcome you to Summer Machine Learning + Deep Learning study group powered by Bogazici Uni. student and Alumni volunteers. \n",
    "\n",
    "\n",
    "Some ideas you can work on:\n",
    "\n",
    "1) The simplest analysis would be to show the linear or nonlinear relation between the HouseAge and Unit Price.\n",
    "\n",
    "2) If you like a more challenging analysis to exercise your coding skills, You can use two or more variables such as HouseAge and Distancetostation to run a linear and nonlinear regression to predict house price of unit area.\n",
    "\n",
    "3) If you like a deeper analysis, you can investigate the correlation between House Unit Price distance to station when HouseAge<10 and numberofstores<3. You can also learn about correlation matrix, Download seaborn library and run the below code. According the correlation information you are getting from the heatmap, create your regression analysis. \n",
    "\n"
   ]
  },
  {
   "cell_type": "markdown",
   "metadata": {
    "id": "Wh2QOfSdbR9t"
   },
   "source": [
    "# <font color='green'>Extra Material for option 3 </font>\n",
    "\n",
    "Correlation Matrix: It measures the relationship between two variables. The measure is best used in variables that demonstrate a linear relationship between each other. \n",
    "\n",
    "-1 indicates a perfectly negative linear correlation between two variables\n",
    "\n",
    "0 indicates no linear correlation between two variables\n",
    "\n",
    "1 indicates a perfectly positive linear correlation between two variables\n",
    "\n",
    "<font color='green'>Code For Option 3 </font> "
   ]
  },
  {
   "cell_type": "code",
   "execution_count": 21,
   "metadata": {},
   "outputs": [
    {
     "data": {
      "text/plain": [
       "<AxesSubplot:>"
      ]
     },
     "execution_count": 21,
     "metadata": {},
     "output_type": "execute_result"
    },
    {
     "data": {
      "image/png": "[encoded data removed]",
      "text/plain": [
       "<Figure size 432x288 with 2 Axes>"
      ]
     },
     "metadata": {
      "needs_background": "light"
     },
     "output_type": "display_data"
    }
   ],
   "source": [
    "import  seaborn as sns\n",
    "\n",
    "sns.heatmap(HouseData.corr(),annot=True)"
   ]
  },
  {
   "cell_type": "code",
   "execution_count": 51,
   "metadata": {
    "executionInfo": {
     "elapsed": 21,
     "status": "aborted",
     "timestamp": 1624863836155,
     "user": {
      "displayName": "bogaziciAI Community",
      "photoUrl": "",
      "userId": "01551662724788664199"
     },
     "user_tz": -180
    },
    "id": "suMBL-mobR9t"
   },
   "outputs": [
    {
     "data": {
      "text/plain": [
       "0.10400000791882147"
      ]
     },
     "execution_count": 51,
     "metadata": {},
     "output_type": "execute_result"
    }
   ],
   "source": [
    "## Start your Code from there and create as many as cell you need to make your code easy to follow ##\n",
    "from sklearn.preprocessing import PolynomialFeatures\n",
    "poly_degree = 3\n",
    "poly = PolynomialFeatures(poly_degree)\n",
    "ageTransformed = poly.fit_transform(Age.reshape(-1,1))\n",
    "model = LinearRegression()\n",
    "model.fit(ageTransformed,Price.reshape(-1,1))\n",
    "model.score(ageTransformed,Price.reshape(-1,1))"
   ]
  },
  {
   "cell_type": "code",
   "execution_count": 50,
   "metadata": {},
   "outputs": [
    {
     "data": {
      "text/plain": [
       "<matplotlib.legend.Legend at 0x28500a3a5e0>"
      ]
     },
     "execution_count": 50,
     "metadata": {},
     "output_type": "execute_result"
    },
    {
     "data": {
      "image/png": "[encoded data removed]",
      "text/plain": [
       "<Figure size 432x288 with 1 Axes>"
      ]
     },
     "metadata": {
      "needs_background": "light"
     },
     "output_type": "display_data"
    }
   ],
   "source": [
    "agePredictionTransformed = poly.fit_transform(np.arange(0,50,5).reshape(-1,1))\n",
    "PredictedPrice = model.predict(agePredictionTransformed)\n",
    "\n",
    "fig = plt.figure()\n",
    "plt.scatter(Age,Price)\n",
    "plt.xlabel(\"Age of the House\")\n",
    "plt.ylabel(\"Unit Price\")\n",
    "\n",
    "plt.plot(np.arange(0,50,5),PredictedPrice,\"r\")\n",
    "plt.legend([\"Regression Predicted\",\"Real Prices\"])"
   ]
  },
  {
   "cell_type": "markdown",
   "metadata": {
    "id": "wi1FaLr4bR9t"
   },
   "source": [
    "# <font color='red'>Feedback</font>\n",
    "\n",
    "We appreciate feedbacks from you to make the exercise better for future generations. \n",
    "\n",
    "1) What do you find most useful in this document?\n",
    "\n",
    "2) Is there any part that was not clear to you?\n",
    "\n",
    "3) How do you rank your coding and regression skills before the task and how difficult was to follow this document?\n",
    "\n",
    "4) Any other suggestions to make it more fun?\n"
   ]
  }
 ],
 "metadata": {
  "colab": {
   "collapsed_sections": [],
   "name": "LinearRegression.ipynb",
   "provenance": []
  },
  "kernelspec": {
   "display_name": "Python 3",
   "language": "python",
   "name": "python3"
  },
  "language_info": {
   "codemirror_mode": {
    "name": "ipython",
    "version": 3
   },
   "file_extension": ".py",
   "mimetype": "text/x-python",
   "name": "python",
   "nbconvert_exporter": "python",
   "pygments_lexer": "ipython3",
   "version": "3.8.8"
  }
 },
 "nbformat": 4,
 "nbformat_minor": 1
}
